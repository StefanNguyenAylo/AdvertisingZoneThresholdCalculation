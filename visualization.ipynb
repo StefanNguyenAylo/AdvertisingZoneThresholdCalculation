{
 "cells": [
  {
   "cell_type": "code",
   "execution_count": 1,
   "metadata": {},
   "outputs": [
    {
     "name": "stderr",
     "output_type": "stream",
     "text": [
      "c:\\Users\\st_nguyen\\AppData\\Local\\anaconda3\\Lib\\site-packages\\pandas\\core\\arrays\\masked.py:60: UserWarning: Pandas requires version '1.3.6' or newer of 'bottleneck' (version '1.3.5' currently installed).\n",
      "  from pandas.core import (\n"
     ]
    },
    {
     "data": {
      "application/vnd.jupyter.widget-view+json": {
       "model_id": "64eab67c82684c55b9622c71d8ef9319",
       "version_major": 2,
       "version_minor": 0
      },
      "text/plain": [
       "interactive(children=(Dropdown(description='Zone ID', options=(5, 981, 985, 4038, 29051, 30781, 1097741, 16502…"
      ]
     },
     "metadata": {},
     "output_type": "display_data"
    },
    {
     "data": {
      "text/plain": [
       "<function __main__.plot_impressions(zone_id, date, prev_date)>"
      ]
     },
     "execution_count": 1,
     "metadata": {},
     "output_type": "execute_result"
    }
   ],
   "source": [
    "import pandas as pd\n",
    "import matplotlib.pyplot as plt\n",
    "from ipywidgets import interact, Dropdown\n",
    "import matplotlib.ticker as mticker\n",
    "\n",
    "# Sample DataFrame \n",
    "data = pd.read_csv('data.csv')  \n",
    "\n",
    "# Ensure the 'date' column is in datetime format\n",
    "data['date'] = pd.to_datetime(data['date'], errors='coerce', utc=True)\n",
    "\n",
    "# Drop rows where 'date' could not be converted\n",
    "data = data.dropna(subset=['date'])\n",
    "\n",
    "# Extract necessary time components\n",
    "data['weekday'] = data['date'].dt.weekday\n",
    "data['hour'] = data['date'].dt.hour\n",
    "\n",
    "\n",
    "# Create a dictionary mapping zone_id to zone name for use in the title\n",
    "zone_name_map = data[['zone_id', 'name']].drop_duplicates().set_index('zone_id')['name'].to_dict()\n",
    "\n",
    "# Define function to plot hourly impressions\n",
    "def plot_impressions(zone_id, date, prev_date):\n",
    "    # Filter data for selected zone and dates\n",
    "    selected_data = data[data['zone_id'] == zone_id]\n",
    "    date_data = selected_data[selected_data['date'].dt.date == pd.to_datetime(date).date()]\n",
    "    prev_date_data = selected_data[selected_data['date'].dt.date == pd.to_datetime(prev_date).date()]\n",
    "    \n",
    "    # Error handling for empty datasets\n",
    "    if date_data.empty or prev_date_data.empty:\n",
    "        print(f\"No data available for Zone ID {zone_id} on the selected dates.\")\n",
    "        return\n",
    "\n",
    "    # Group by hour to sum impressions\n",
    "    hourly_date = date_data.groupby('hour')['impressions'].sum()\n",
    "    hourly_prev_date = prev_date_data.groupby('hour')['impressions'].sum()\n",
    "\n",
    "    # Plot the impressions\n",
    "    plt.figure(figsize=(10, 6))\n",
    "    plt.plot(hourly_date.index, hourly_date.values, label=date, marker='o')\n",
    "    plt.plot(hourly_prev_date.index, hourly_prev_date.values, label=prev_date, marker='o')\n",
    "    plt.title(f'Hourly Total Impressions for Zone ID {zone_id} - {zone_name_map.get(zone_id, \"Unknown\")}')\n",
    "    plt.xlabel('Hour of Day')\n",
    "    plt.ylabel('Total Impressions')\n",
    "    plt.legend()\n",
    "    plt.grid(axis='y', linestyle='--', alpha=0.7)\n",
    "    plt.xticks(range(24), labels=[f'{i}:00' for i in range(24)], rotation=45)\n",
    "    \n",
    "    # Format Y-axis as human-readable (e.g., 1K, 10K)\n",
    "    ax = plt.gca()\n",
    "    ax.yaxis.set_major_formatter(mticker.FuncFormatter(lambda x, _: f'{x / 1e3:.0f}K'))\n",
    "    \n",
    "    plt.tight_layout()\n",
    "    plt.show()\n",
    "\n",
    "# Dropdown options for zone_id and available dates\n",
    "zone_options = sorted(data['zone_id'].unique())\n",
    "date_options = sorted(data['date'].dt.date.unique())\n",
    "\n",
    "# Interactive dropdown menus with default values\n",
    "interact(\n",
    "    plot_impressions,\n",
    "    zone_id=Dropdown(options=zone_options, value=zone_options[0], description=\"Zone ID\"),\n",
    "    date=Dropdown(options=date_options, value=date_options[-1], description=\"Date\"),\n",
    "    prev_date=Dropdown(options=date_options, value=date_options[-2], description=\"Previous Date\")\n",
    ")\n"
   ]
  }
 ],
 "metadata": {
  "kernelspec": {
   "display_name": "base",
   "language": "python",
   "name": "python3"
  },
  "language_info": {
   "codemirror_mode": {
    "name": "ipython",
    "version": 3
   },
   "file_extension": ".py",
   "mimetype": "text/x-python",
   "name": "python",
   "nbconvert_exporter": "python",
   "pygments_lexer": "ipython3",
   "version": "3.11.5"
  }
 },
 "nbformat": 4,
 "nbformat_minor": 2
}
